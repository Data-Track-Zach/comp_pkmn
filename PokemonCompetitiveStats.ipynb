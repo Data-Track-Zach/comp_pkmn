{
 "cells": [
  {
   "cell_type": "markdown",
   "metadata": {},
   "source": [
    "# Competitive Pokemon Analysis"
   ]
  },
  {
   "cell_type": "markdown",
   "metadata": {},
   "source": [
    "## Goal"
   ]
  },
  {
   "cell_type": "raw",
   "metadata": {},
   "source": [
    "Project Goal:\n",
    "    1) Investigate Competitive Pokemon Design in preparation for next Pokemon Generation\n",
    "    2) Investigate \"Best Starter\" Battle Analysis \n",
    "    3) Make Prediction on next generation Starter Stats and Legendary Stats\n",
    "Personal:\n",
    "    Familiarize with \n",
    "    * Python\n",
    "    * Regex\n",
    "    * Pandas\n",
    "    * Plotly \n",
    "    * Python Styling (Latex/Markdown)"
   ]
  },
  {
   "cell_type": "raw",
   "metadata": {},
   "source": [
    "Links \n",
    "\n",
    "https://bulbapedia.bulbagarden.net/wiki/List_of_Pok%C3%A9mon_with_form_differences\n",
    "\n",
    "Pandas Multiple Replace\n",
    "https://stackoverflow.com/questions/36072626/pandas-replace-multiple-values-at-once\n",
    "\n",
    "https://stackoverflow.com/questions/199059/a-pythonic-way-to-insert-a-space-before-capital-letters\n",
    "https://stackoverflow.com/questions/41476150/removing-space-from-dataframe-columns-in-pandas\n",
    "    \n",
    "    https://plot.ly/python/subplots/#multiple-custom-sized-subplots\n",
    "    \n",
    "https://www.python.org/dev/peps/pep-0008/\n",
    "https://bulbapedia.bulbagarden.net/wiki/Category:Type_color_templates"
   ]
  },
  {
   "cell_type": "markdown",
   "metadata": {},
   "source": [
    "## Results"
   ]
  },
  {
   "cell_type": "raw",
   "metadata": {},
   "source": [
    "1) Box Plots of each Pokemon Species Per Generation\n",
    "    * Shows how Megas in Gen 6 surpassed Stat Ceiling\n",
    "    * Shows Design of Legendary Pokemon (Total >= 580) vs Regular (Total <=580) [w/ 1-2 exceptions each gen] \n",
    "2) Predict Stats for next starter\n",
    "3) Inital Damage Calculation Ideas"
   ]
  },
  {
   "cell_type": "markdown",
   "metadata": {},
   "source": [
    "## Updates"
   ]
  },
  {
   "cell_type": "raw",
   "metadata": {},
   "source": [
    "#03/09/19\n",
    "1st Attempt:\n",
    "Project: Filter by Gens\n",
    "Issues found: \n",
    "1) No clue about what exactly was in the Pokemon Database \n",
    "    I assumed All Generations, but it was only up to Gen VI (X/Y - Kalos), did not include Gen VII (Sun/Moon - Alola)\n",
    " \n",
    "2) Unstable Project Scope\n",
    "    Initially I wanted to do a Game Creation analysis on the different Pokemon Stats based on each iteration.\n",
    "    However I found out that this is very tricky due to changes made on Stats (introducing new stats (Gen 1 Special Defense) and increasing stats by 10 (Gen V & Gen VI) \n",
    "    Maybe in the future I can revisit this idea but scraping more info\n",
    "3) Messy Database querying based on 1 & 2 \n",
    "    Assuming these parts about 1 & 2 I made messier Database queries \n",
    "    Examples:\n",
    "        Pkmn_Gen1to5 = Pkmn_raw[(Pkmn_raw['Generation']<=5) & (~Pkmn_raw['Name'].str.contains('Mega', regex =True)) & (~Pkmn_raw['Name'].str.contains('Primal', regex =True))]\n",
    "        Pkmn_Gen6 = Pkmn_raw[(Pkmn_raw['Generation']==6) |(Pkmn_raw['Name'].str.contains('Mega', regex =True))| (Pkmn_raw['Name'].str.contains('Primal', regex =True))]\n",
    "        \n",
    "4) Pokemon Complexity\n",
    "    Movelist\n",
    "    Male/Female Differences  \n",
    "5) Competitive Pokemon Tierlists are for different gamemodes\n",
    "   6v6 or Doubles\n",
    "   \n",
    "Solutions:\n",
    "1) Stay within Gen I - VI, ignore Gen VII for now\n",
    "2) Accept VI stat changes as whole\n",
    "3) Create new column of Normalized Generation to represent the extra evolutions\n",
    "4) Worry About the extra stuff later\n",
    "-----------------------------------------------------------------------------------------------------------------------------------------------------------------------------------------------------------------------------------------------------------------------\n",
    "\n",
    "03/12/19\n",
    "1st Attempt \n",
    "Project: Show stats of Starter Pokemon\n",
    "Issues:\n",
    "Using Scatter Polar is nice for being similar to how the game shows info, but it's not good for overlapping data\n",
    "\n",
    "Solution:\n",
    "Focus more on creating something to predict the next generation pokemon stats\n",
    "\n",
    "Though it looks really really nice to have that hex of data and possibly the pokemon side-by-side. Might use this format for showcasing really optimal pokemon stats\n",
    "\n",
    "\n",
    "-----------------------------------------------------------------------------------------------------------------------------------------------------------------------------------------------------------------------------------------------------------------------\n",
    "03/13/19\n",
    "2nd Attempt\n",
    "Project: Show stats of Starter Pokemon\n",
    "WENT PRETTY OK\n",
    "Issues:\n",
    "Definitely need to refactor the code and make it a function for simplicity. Basically I'm repeating the same thing 3 times already and already iterating over a list per Type! Also it would be good in the future for BOX comparisons\n",
    "Definitely need to clean up the code for spaces, indentations soon\n",
    "Might need a more clear cut way of isolating the Starter Pokemon other than just looking it up? \n",
    "\n",
    "Things I learned:\n",
    "* Repeating list values = np.repeat\n",
    "* Repeat a dataframe keeping original order= pd.concat\n",
    "* isin() is very useful \n",
    "* Plotly Grouped Plots\n",
    "Questions:\n",
    "* Best practices when to make a new dataframe or drop columns?\n",
    "* \n",
    "\n",
    "# Both output same thing, but one is much easier to read at the cost of making another dataframe\n",
    "Pkmn_raw.loc[Pkmn_raw['Name'].isin(Pkmn_Starter_Grass), 'HP']\n",
    "Grass_Starters['HP']\n",
    "\n",
    "\n",
    "----------------------------------------------------------------------------------------------------------------------------------------------------------------------------------------------------------------------------------------------------------------------\n",
    "03/17/19\n",
    "3rd Attempt\n",
    "Project: Show stats of Starter Pokemon\n",
    "Issues:\n",
    "Previously worked fine, but was not scalable to other Stages of Evolution.\n",
    "Main difficulty came to the way I created smaller DataFrames for Grass, Fire, Water Starter Pokemon (1st Stage)\n",
    "Since I separated each dataframe, making a function to simplify the work was too convoluted\n",
    "\n",
    "Action:\n",
    "+ Going back to create a better dataframe to make the workflow easier.\n",
    "+ Creating a grouped boxplot showing each Type and Stage of Evolution\n",
    "+ Finding a way to show the connection of All stages of evolution \n",
    "\n",
    "\n",
    "Update to understanding database: \n",
    "Meganium was tagged as a Gen 6 due to having \"Mega\" in its name. I added an extra space for the \"Gen_Normalized\" labeling\n",
    "Before:\n",
    "Pkmn_raw.loc[Pkmn_raw['Name'].str.contains('Mega|Primal'), 'Gen_Normalized'] = 6\n",
    "Current:\n",
    "Pkmn_raw.loc[Pkmn_raw['Name'].str.contains('Mega |Primal '), 'Gen_Normalized'] = 6\n",
    "\n",
    "Victini is the 1st pokemon in Gen 5, so I had to cut it out specifically for Gen 5 Starters\n",
    "\n",
    "----------------------------------------------------------------------------------------------------------------------------------------------------------------------------------------------------------------------------------------------------------------------\n",
    "03/30/19\n",
    "4th Attempt\n",
    "Project: Show stats for Starter Pokemon\n",
    "Now in function form, ability to scale with different evolution stages of the starters\n",
    "\n",
    "1st Attempt Damage Calculations\n",
    "Difficulty is calculating all of the potential modifiers and move powers \n",
    "Will need to return to this in the future\n"
   ]
  },
  {
   "cell_type": "markdown",
   "metadata": {},
   "source": [
    "# Pokemon Stats"
   ]
  },
  {
   "cell_type": "code",
   "execution_count": 1,
   "metadata": {},
   "outputs": [],
   "source": [
    "import pandas as pd\n",
    "from plotly import tools\n",
    "import plotly.plotly as py\n",
    "import plotly.graph_objs as go\n",
    "import numpy as np\n",
    "\n",
    "# Get Pokemon Stats CSV File\n",
    "Pkmn_raw = pd.read_csv('Pokemon.csv')"
   ]
  },
  {
   "cell_type": "markdown",
   "metadata": {},
   "source": [
    "## Cleaning Pokemon Data"
   ]
  },
  {
   "cell_type": "markdown",
   "metadata": {},
   "source": [
    "### Pokemon Names"
   ]
  },
  {
   "cell_type": "code",
   "execution_count": 2,
   "metadata": {},
   "outputs": [],
   "source": [
    "# CLEAN POKEMON NAMES\n",
    "# Assuming it's fine to keep as _raw\n",
    "#Pandas Multiple Replace\n",
    "#https://stackoverflow.com/questions/36072626/pandas-replace-multiple-values-at-once\n",
    "\n",
    "Name_Replacements = {\n",
    "    'Name':{\n",
    "        # Remove duplicate names found in Mega, Primal, and Hoopa\n",
    "        # Regex: ?= -> Look ahead Assertion\n",
    "        # [Regex -> English] Replace everything before \"Target Word\" with empty space \n",
    "        # Pkmn_raw['Name'] = Pkmn_raw['Name'].str.replace(\".*(?=Mega)\", \"\")\n",
    "        r'.*(?=Mega|Primal|Hoopa)': '',\n",
    "        # Add Space between  Capitals to account in Forme, Cloake, Mode, Size\n",
    "        # Regex:\n",
    "        # [Regex -> English] Find two consecutive groups of (Words) and (Capital Letter) or (\"50%\") and Add a space between the two groups\n",
    "        r'(\\w)([A-Z])|(?=50%)': r'\\1 \\2'\n",
    "    }\n",
    "}\n",
    "\n",
    "Pkmn_raw.replace(Name_Replacements, regex=True, inplace=True)"
   ]
  },
  {
   "cell_type": "markdown",
   "metadata": {},
   "source": [
    "### Pokemon Generation Differences"
   ]
  },
  {
   "cell_type": "code",
   "execution_count": 3,
   "metadata": {},
   "outputs": [],
   "source": [
    "# CLEAN POKEMON GEN\n",
    "# Issue: Mega Evolutions and Primal Reversions are Gen 6, but are appended to the respective Pokemon in the Pokedex\n",
    "\n",
    "Pkmn_raw['Gen_Normalized'] = Pkmn_raw['Generation']\n",
    "\n",
    "# CASE: Meganium -> NOT A MEGA EVOLUTION \n",
    "Pkmn_raw.loc[Pkmn_raw['Name'].str.contains('Mega |Primal '), 'Gen_Normalized'] = 6\n",
    "\n",
    "#Pkmn_raw['Generation Normalized'] = Pkmn_raw['Generation'].replace(Gen_Replacements,regex=True)\n",
    "\n",
    "# Make Generation Normalized = 6 for Mega and Primal Transform\n"
   ]
  },
  {
   "cell_type": "code",
   "execution_count": 4,
   "metadata": {},
   "outputs": [
    {
     "data": {
      "text/html": [
       "<div>\n",
       "<style scoped>\n",
       "    .dataframe tbody tr th:only-of-type {\n",
       "        vertical-align: middle;\n",
       "    }\n",
       "\n",
       "    .dataframe tbody tr th {\n",
       "        vertical-align: top;\n",
       "    }\n",
       "\n",
       "    .dataframe thead th {\n",
       "        text-align: right;\n",
       "    }\n",
       "</style>\n",
       "<table border=\"1\" class=\"dataframe\">\n",
       "  <thead>\n",
       "    <tr style=\"text-align: right;\">\n",
       "      <th></th>\n",
       "      <th>#</th>\n",
       "      <th>Name</th>\n",
       "      <th>Type 1</th>\n",
       "      <th>Type 2</th>\n",
       "      <th>Total</th>\n",
       "      <th>HP</th>\n",
       "      <th>Attack</th>\n",
       "      <th>Defense</th>\n",
       "      <th>Sp. Atk</th>\n",
       "      <th>Sp. Def</th>\n",
       "      <th>Speed</th>\n",
       "      <th>Generation</th>\n",
       "      <th>Legendary</th>\n",
       "      <th>Gen_Normalized</th>\n",
       "    </tr>\n",
       "  </thead>\n",
       "  <tbody>\n",
       "    <tr>\n",
       "      <th>0</th>\n",
       "      <td>1</td>\n",
       "      <td>Bulbasaur</td>\n",
       "      <td>Grass</td>\n",
       "      <td>Poison</td>\n",
       "      <td>318</td>\n",
       "      <td>45</td>\n",
       "      <td>49</td>\n",
       "      <td>49</td>\n",
       "      <td>65</td>\n",
       "      <td>65</td>\n",
       "      <td>45</td>\n",
       "      <td>1</td>\n",
       "      <td>False</td>\n",
       "      <td>1</td>\n",
       "    </tr>\n",
       "    <tr>\n",
       "      <th>1</th>\n",
       "      <td>2</td>\n",
       "      <td>Ivysaur</td>\n",
       "      <td>Grass</td>\n",
       "      <td>Poison</td>\n",
       "      <td>405</td>\n",
       "      <td>60</td>\n",
       "      <td>62</td>\n",
       "      <td>63</td>\n",
       "      <td>80</td>\n",
       "      <td>80</td>\n",
       "      <td>60</td>\n",
       "      <td>1</td>\n",
       "      <td>False</td>\n",
       "      <td>1</td>\n",
       "    </tr>\n",
       "    <tr>\n",
       "      <th>2</th>\n",
       "      <td>3</td>\n",
       "      <td>Venusaur</td>\n",
       "      <td>Grass</td>\n",
       "      <td>Poison</td>\n",
       "      <td>525</td>\n",
       "      <td>80</td>\n",
       "      <td>82</td>\n",
       "      <td>83</td>\n",
       "      <td>100</td>\n",
       "      <td>100</td>\n",
       "      <td>80</td>\n",
       "      <td>1</td>\n",
       "      <td>False</td>\n",
       "      <td>1</td>\n",
       "    </tr>\n",
       "    <tr>\n",
       "      <th>3</th>\n",
       "      <td>3</td>\n",
       "      <td>Mega Venusaur</td>\n",
       "      <td>Grass</td>\n",
       "      <td>Poison</td>\n",
       "      <td>625</td>\n",
       "      <td>80</td>\n",
       "      <td>100</td>\n",
       "      <td>123</td>\n",
       "      <td>122</td>\n",
       "      <td>120</td>\n",
       "      <td>80</td>\n",
       "      <td>1</td>\n",
       "      <td>False</td>\n",
       "      <td>6</td>\n",
       "    </tr>\n",
       "    <tr>\n",
       "      <th>4</th>\n",
       "      <td>4</td>\n",
       "      <td>Charmander</td>\n",
       "      <td>Fire</td>\n",
       "      <td>NaN</td>\n",
       "      <td>309</td>\n",
       "      <td>39</td>\n",
       "      <td>52</td>\n",
       "      <td>43</td>\n",
       "      <td>60</td>\n",
       "      <td>50</td>\n",
       "      <td>65</td>\n",
       "      <td>1</td>\n",
       "      <td>False</td>\n",
       "      <td>1</td>\n",
       "    </tr>\n",
       "  </tbody>\n",
       "</table>\n",
       "</div>"
      ],
      "text/plain": [
       "   #           Name Type 1  Type 2  Total  HP  Attack  Defense  Sp. Atk  \\\n",
       "0  1      Bulbasaur  Grass  Poison    318  45      49       49       65   \n",
       "1  2        Ivysaur  Grass  Poison    405  60      62       63       80   \n",
       "2  3       Venusaur  Grass  Poison    525  80      82       83      100   \n",
       "3  3  Mega Venusaur  Grass  Poison    625  80     100      123      122   \n",
       "4  4     Charmander   Fire     NaN    309  39      52       43       60   \n",
       "\n",
       "   Sp. Def  Speed  Generation  Legendary  Gen_Normalized  \n",
       "0       65     45           1      False               1  \n",
       "1       80     60           1      False               1  \n",
       "2      100     80           1      False               1  \n",
       "3      120     80           1      False               6  \n",
       "4       50     65           1      False               1  "
      ]
     },
     "execution_count": 4,
     "metadata": {},
     "output_type": "execute_result"
    }
   ],
   "source": [
    "Pkmn_raw.head()"
   ]
  },
  {
   "cell_type": "markdown",
   "metadata": {},
   "source": [
    "## Pokemon Base Stats per Generation"
   ]
  },
  {
   "cell_type": "code",
   "execution_count": 6,
   "metadata": {},
   "outputs": [
    {
     "data": {
      "text/html": [
       "<iframe id=\"igraph\" scrolling=\"no\" style=\"border:none;\" seamless=\"seamless\" src=\"https://plot.ly/~zcar/414.embed\" height=\"2000px\" width=\"4000px\"></iframe>"
      ],
      "text/plain": [
       "<plotly.tools.PlotlyDisplay object>"
      ]
     },
     "execution_count": 6,
     "metadata": {},
     "output_type": "execute_result"
    }
   ],
   "source": [
    "# Box Plot of Base Stats per Generation (I-VI)\n",
    "trace_all = go.Box(\n",
    "                y = Pkmn_raw['Total'],\n",
    "                name = 'All Gen', \n",
    "                boxpoints = 'all', \n",
    "                text = Pkmn_raw['Name'],\n",
    "                pointpos = -2,\n",
    "                jitter = 0.6,\n",
    "                boxmean = 'sd',\n",
    "                )\n",
    "\n",
    "data = [trace_all]\n",
    "for i in Pkmn_raw['Gen_Normalized'].sort_values().unique():\n",
    "    trace = go.Box(\n",
    "        y = Pkmn_raw.loc[Pkmn_raw['Gen_Normalized'] == i, 'Total'],\n",
    "        name = \"Gen \" + str(i),\n",
    "        boxpoints = 'all',\n",
    "        text = Pkmn_raw.loc[Pkmn_raw['Gen_Normalized'] == i,'Name'],\n",
    "        jitter = 0.6,\n",
    "        boxmean = 'sd',\n",
    "        pointpos = -2,\n",
    "    )    \n",
    "    data.append(trace)\n",
    "\n",
    "layout = go.Layout(\n",
    "    title = 'Total Stats Per Generation (I-VI)',\n",
    "    autosize = False,\n",
    "    yaxis = dict(range = [100, 900]),\n",
    "    height = 2000,\n",
    "    width = 4000,\n",
    ")\n",
    "\n",
    "fig = go.Figure(data = data, layout = layout)\n",
    "py.iplot(fig)\n",
    "\n"
   ]
  },
  {
   "cell_type": "markdown",
   "metadata": {},
   "source": [
    "## Pokemon Species Polar Scatter (Nice Looking, but not the best option)"
   ]
  },
  {
   "cell_type": "code",
   "execution_count": 7,
   "metadata": {},
   "outputs": [
    {
     "data": {
      "text/html": [
       "<iframe id=\"igraph\" scrolling=\"no\" style=\"border:none;\" seamless=\"seamless\" src=\"https://plot.ly/~zcar/416.embed\" height=\"525px\" width=\"100%\"></iframe>"
      ],
      "text/plain": [
       "<plotly.tools.PlotlyDisplay object>"
      ]
     },
     "execution_count": 7,
     "metadata": {},
     "output_type": "execute_result"
    }
   ],
   "source": [
    "# POLAR SCATTER [CURRENTLY NOT IN USE!]\n",
    "# Starter comparison\n",
    "# 0 - 200\n",
    "#         HP\n",
    "#  ATTACK   SPECIAL ATTACK\n",
    "#  DEFENSE  SPECIAL DEFENSE\n",
    "#        SPEED\n",
    "# HP ATTACK DEFENSE SP ATTACK SP DEF SPEED\n",
    "# Set up plot [Check]\n",
    "# Reorient Categories [Check]\n",
    "# Value depending on pokemon name and column [Check]\n",
    "\n",
    "\n",
    "def PkmnPolarStats(Pkmn_Comparison):\n",
    "    data = []\n",
    "    for Mon in Pkmn_Comparison:\n",
    "        Stats_Polar = go.Scatterpolar(\n",
    "            name = Mon,\n",
    "            r = [\n",
    "                 Pkmn_raw.loc[Pkmn_raw['Name'] == Mon,'HP'], \n",
    "                 Pkmn_raw.loc[Pkmn_raw['Name'] == Mon,'Sp. Atk'], \n",
    "                 Pkmn_raw.loc[Pkmn_raw['Name'] == Mon,'Sp. Def'], \n",
    "                 Pkmn_raw.loc[Pkmn_raw['Name'] == Mon,'Speed'], \n",
    "                 Pkmn_raw.loc[Pkmn_raw['Name'] == Mon,'Defense'], \n",
    "                 Pkmn_raw.loc[Pkmn_raw['Name'] == Mon,'Attack'], \n",
    "                 Pkmn_raw.loc[Pkmn_raw['Name'] == Mon,'HP']\n",
    "                ],\n",
    "            theta = ['HP','Sp. Atk','Sp. Def','Speed','Defense','Attack','HP'],\n",
    "            fill = 'toself',\n",
    "            hoveron = 'points',\n",
    "        )\n",
    "        data.append(Stats_Polar)\n",
    "    return data\n",
    "\n",
    "testdata1 = PkmnPolarStats(['Charizard', 'Charmeleon', 'Charmander'])\n",
    "\n",
    "layout = go.Layout(   \n",
    "    polar = dict(\n",
    "        radialaxis = dict(\n",
    "            range = [0,200],\n",
    "        ),\n",
    "        angularaxis = dict(\n",
    "            rotation = 90,\n",
    "        ),\n",
    "    ),\n",
    "    showlegend = True,\n",
    "    title = 'Charmander to Charizard',\n",
    ")\n",
    "\n",
    "\n",
    "fig = go.Figure(data=testdata1,layout=layout)\n",
    "py.iplot(fig, filename='polar-category')"
   ]
  },
  {
   "cell_type": "markdown",
   "metadata": {},
   "source": [
    "## Pokemon Starter Comparison"
   ]
  },
  {
   "cell_type": "code",
   "execution_count": 8,
   "metadata": {},
   "outputs": [],
   "source": [
    "# Make a separate Dataframe for Pokemon Starters\n",
    "Pkmn_starters = pd.DataFrame([])\n",
    "for i in Pkmn_raw['Gen_Normalized'].sort_values().unique():\n",
    "    if i != 5:\n",
    "        Pkmn_starters = Pkmn_starters.append(Pkmn_raw.loc[(Pkmn_raw['Gen_Normalized'] == i) & (Pkmn_raw['Generation']==Pkmn_raw['Gen_Normalized'])][0:9])\n",
    "    # Gen 5 Victini CASE: Victini is the 1st Pokemon listed in Gen 5\n",
    "    if i == 5:\n",
    "        Pkmn_starters = Pkmn_starters.append(Pkmn_raw.loc[(Pkmn_raw['Gen_Normalized'] == i) & (Pkmn_raw['Generation']==Pkmn_raw['Gen_Normalized'])][1:10])\n",
    "    \n",
    "    \n",
    "Pkmn_starters.drop(columns=['Legendary','Gen_Normalized'])\n",
    "evo = pd.Series([1,2,3])\n",
    "Pkmn_starters['Evolution_Stage'] = np.tile(evo, len(Pkmn_starters) //len(evo))\n"
   ]
  },
  {
   "cell_type": "code",
   "execution_count": 9,
   "metadata": {},
   "outputs": [
    {
     "data": {
      "text/html": [
       "<iframe id=\"igraph\" scrolling=\"no\" style=\"border:none;\" seamless=\"seamless\" src=\"https://plot.ly/~zcar/418.embed\" height=\"525px\" width=\"100%\"></iframe>"
      ],
      "text/plain": [
       "<plotly.tools.PlotlyDisplay object>"
      ]
     },
     "execution_count": 9,
     "metadata": {},
     "output_type": "execute_result"
    }
   ],
   "source": [
    "# Plot Box Plot comparing all Starters\n",
    "def StarterTypeEvoBoxPlot(Type, Evolution, color):\n",
    "    Stats_List=['HP', 'Attack', 'Defense', 'Sp. Atk', 'Sp. Def', 'Speed']\n",
    "    trace = go.Box(\n",
    "        y = pd.concat([\n",
    "            # Get the stats(HP, Attack, Defense...) of pokemon of a specific type and evolution\n",
    "            # Probably a better way to get this done in a loop that appends as an array (for some reason can't do this in the proper format)\n",
    "            Pkmn_starters.loc[(Pkmn_starters['Type 1'] == Type) & (Pkmn_starters['Evolution_Stage'] == Evolution),'HP'],\n",
    "            Pkmn_starters.loc[(Pkmn_starters['Type 1'] == Type) & (Pkmn_starters['Evolution_Stage'] == Evolution),'Attack'],\n",
    "            Pkmn_starters.loc[(Pkmn_starters['Type 1'] == Type) & (Pkmn_starters['Evolution_Stage'] == Evolution),'Defense'],\n",
    "            Pkmn_starters.loc[(Pkmn_starters['Type 1'] == Type) & (Pkmn_starters['Evolution_Stage'] == Evolution),'Sp. Atk'],\n",
    "            Pkmn_starters.loc[(Pkmn_starters['Type 1'] == Type) & (Pkmn_starters['Evolution_Stage'] == Evolution),'Sp. Def'],\n",
    "            Pkmn_starters.loc[(Pkmn_starters['Type 1'] == Type) & (Pkmn_starters['Evolution_Stage'] == Evolution),'Speed'],\n",
    "        ]),\n",
    "        # Repeat the naming convention for each pokemon stat \n",
    "        x = np.repeat(Stats_List,Pkmn_starters['Generation'].max()), #6 for All 6 generations of (grass/fire/water) type pokemon,\n",
    "        name = Type + \" Stage: \" + str(Evolution),\n",
    "        boxpoints = 'all',\n",
    "        text = pd.concat([Pkmn_starters.loc[(Pkmn_starters['Type 1'] == Type) & (Pkmn_starters['Evolution_Stage'] == Evolution),'Name']] * Pkmn_raw['Generation'].max()),\n",
    "        marker = dict(\n",
    "            color = color\n",
    "        ),\n",
    "    )\n",
    "    return trace\n",
    "\n",
    "grass1 = StarterTypeEvoBoxPlot('Grass', 1, '#A7DB8D')\n",
    "grass2 = StarterTypeEvoBoxPlot('Grass', 2, '#78C850' )\n",
    "grass3 = StarterTypeEvoBoxPlot('Grass', 3, '#4E8234')\n",
    "fire1 = StarterTypeEvoBoxPlot('Fire', 1, '#F5AC78')\n",
    "fire2 = StarterTypeEvoBoxPlot('Fire', 2, '#F08030')\n",
    "fire3 = StarterTypeEvoBoxPlot('Fire', 3, '#9C531F')\n",
    "water1 = StarterTypeEvoBoxPlot('Water', 1, '#9DB7F5')\n",
    "water2 = StarterTypeEvoBoxPlot('Water', 2, '#6890F0')\n",
    "water3 = StarterTypeEvoBoxPlot('Water', 3, '#445E9C')\n",
    "data = [grass1, fire1, water1,\n",
    "        grass2, fire2, water2,\n",
    "        grass3, fire3, water3 \n",
    "       ]\n",
    "\n",
    "layout = go.Layout(\n",
    "    title = 'Pokemon Starters',\n",
    "    boxmode='group'\n",
    ")\n",
    "\n",
    "fig = go.Figure(data = data, layout = layout)\n",
    "py.iplot(fig)\n"
   ]
  },
  {
   "cell_type": "markdown",
   "metadata": {},
   "source": [
    "## Stat Distribution (Better to select one stat)"
   ]
  },
  {
   "cell_type": "code",
   "execution_count": 10,
   "metadata": {},
   "outputs": [
    {
     "data": {
      "text/html": [
       "<iframe id=\"igraph\" scrolling=\"no\" style=\"border:none;\" seamless=\"seamless\" src=\"https://plot.ly/~zcar/420.embed\" height=\"525px\" width=\"100%\"></iframe>"
      ],
      "text/plain": [
       "<plotly.tools.PlotlyDisplay object>"
      ]
     },
     "execution_count": 10,
     "metadata": {},
     "output_type": "execute_result"
    }
   ],
   "source": [
    "import plotly.figure_factory as ff\n",
    "# Add histogram data\n",
    "x1 = Pkmn_raw['HP']\n",
    "x2 = Pkmn_raw['Attack']\n",
    "x3 = Pkmn_raw['Defense']\n",
    "x4 = Pkmn_raw['Sp. Atk']\n",
    "x5 = Pkmn_raw['Sp. Def']\n",
    "x6 = Pkmn_raw['Speed']\n",
    "\n",
    "# Group data together\n",
    "hist_data = [x1, x2, x3, x4, x5, x6]\n",
    "\n",
    "group_labels = ['HP', 'Attack', 'Defense', 'Sp. Atk', 'Sp.Def','Speed']\n",
    "\n",
    "# Create distplot with custom bin_size\n",
    "fig = ff.create_distplot(hist_data, group_labels, show_curve=False)\n",
    "\n",
    "# Plot!\n",
    "py.iplot(fig, filename='Distplot with Multiple Datasets')"
   ]
  },
  {
   "cell_type": "markdown",
   "metadata": {},
   "source": [
    "## Stat and Damage Calculations"
   ]
  },
  {
   "cell_type": "markdown",
   "metadata": {},
   "source": [
    "### $$ HP = \\Bigg \\lfloor \\frac{ \\big( 2 \\times Base + IV + \\big\\lfloor \\frac{EV}{4} \\big\\rfloor \\big) \\times Level }{100} \\Bigg\\rfloor + Level + 10$$ \n",
    "### $$ Other Stat = \\Bigg \\lfloor \\Bigg( \\Bigg \\lfloor\\frac{ \\big( 2 \\times Base + IV + \\big\\lfloor \\frac{EV}{4} \\big\\rfloor \\big) \\times Level }{100} \\Bigg \\rfloor + 5 \\Bigg) \\times Nature \\Bigg \\rfloor$$\n",
    "### $$ Damage = \\Bigg( \\frac { \\big( \\frac{ 2 \\times Level}{5} +2 \\big) \\times Power \\times A/D}{50} +2 \\Bigg) \\times Modifier$$\n",
    "### $$ Modifier = Targets \\times Weather \\times Critical \\times random \\times STAB \\times Type \\times Burn \\times Other$$"
   ]
  },
  {
   "cell_type": "markdown",
   "metadata": {},
   "source": [
    "### $$ IV = [0, 31]$$\n",
    "### $$ EV = [0, 252]$$\n",
    "### $$ Level = [1, 100]$$\n",
    "### A = Attack Value from Attacker (either Attack or Special Attack)\n",
    "### D = Defense Value from Defender (either Defense or Special Defense)\n",
    "### Nature is a 0.9 or 1.1 multiplier for specific stats (e.g. +Att - Def)\n",
    "Flooring brackets (aka flooring function) indicates a \"rounding down\" of that value\n",
    "e.g. from wikipedia floor(2.4) = 2 \n",
    "e.g. floor(2.9999) = 2 "
   ]
  },
  {
   "cell_type": "code",
   "execution_count": 11,
   "metadata": {},
   "outputs": [
    {
     "data": {
      "text/html": [
       "<iframe id=\"igraph\" scrolling=\"no\" style=\"border:none;\" seamless=\"seamless\" src=\"https://plot.ly/~zcar/422.embed\" height=\"525px\" width=\"100%\"></iframe>"
      ],
      "text/plain": [
       "<plotly.tools.PlotlyDisplay object>"
      ]
     },
     "execution_count": 11,
     "metadata": {},
     "output_type": "execute_result"
    }
   ],
   "source": [
    "HP_range = np.arange(1,255+1)\n",
    "\n",
    "def StatLine_HP(level,IV,EV,name):\n",
    "    trace = go.Scatter(\n",
    "        x = HP_range,\n",
    "        y = np.floor((((2 * HP_range)+ IV + np.floor(EV/4))* level)/100)+level+10,\n",
    "        name = name,\n",
    "    )\n",
    "    return trace\n",
    "#                         Lvl  IV  EV   Name\n",
    "trace_base = StatLine_HP( 100, 0 ,   0, 'Base')\n",
    "trace_IV =   StatLine_HP( 100, 31,   0, 'Max IV')\n",
    "trace_EV =   StatLine_HP( 100, 0 , 252, 'MaxEV')\n",
    "trace_max =  StatLine_HP( 100, 31, 252, 'MAX')\n",
    "trace_base50 = StatLine_HP(50, 0 ,   0, 'Base 50')\n",
    "trace_IV50 =   StatLine_HP(50, 31,   0, 'Max IV 50')\n",
    "trace_EV50 =   StatLine_HP(50, 0 , 252, 'MaxEV 50')\n",
    "trace_max50 =  StatLine_HP(50, 31, 252, 'MAX 50')\n",
    "data = [trace_base,trace_IV,trace_EV,trace_max,\n",
    "        trace_base50,trace_IV50,trace_EV50,trace_max50\n",
    "       ]\n",
    "\n",
    "py.iplot(data)"
   ]
  },
  {
   "cell_type": "code",
   "execution_count": 19,
   "metadata": {},
   "outputs": [
    {
     "data": {
      "text/html": [
       "<iframe id=\"igraph\" scrolling=\"no\" style=\"border:none;\" seamless=\"seamless\" src=\"https://plot.ly/~zcar/436.embed\" height=\"525px\" width=\"100%\"></iframe>"
      ],
      "text/plain": [
       "<plotly.tools.PlotlyDisplay object>"
      ]
     },
     "execution_count": 19,
     "metadata": {},
     "output_type": "execute_result"
    }
   ],
   "source": [
    "DmgRatio_range = np.arange(0, 2+0.01,0.01)\n",
    "\n",
    "def StatLine_Dmg(level,power,name):\n",
    "    trace = go.Scatter(\n",
    "        x = DmgRatio_range,\n",
    "        y = (((((2*level)/5)+2)*power*DmgRatio_range)/50)+2,\n",
    "        name = name,\n",
    "    )\n",
    "    return trace\n",
    "base_100_100 = StatLine_Dmg(100,100,'L: 100, P: 100')\n",
    "base_100_50  = StatLine_Dmg(100,50,'L: 100, P: 50')\n",
    "base_100_150  = StatLine_Dmg(100,150,'L: 100, P: 150')\n",
    "base_50_100 = StatLine_Dmg(50,100,'L: 50, P: 100')\n",
    "base_50_50  = StatLine_Dmg(50,50,'L: 50, P: 50')\n",
    "base_50_150  = StatLine_Dmg(50,150,'L: 50, P: 150')\n",
    "data = [base_100_150,\n",
    "        base_100_100,\n",
    "        base_100_50,\n",
    "        base_50_150,\n",
    "        base_50_100,\n",
    "        base_50_50,\n",
    "       ]\n",
    "\n",
    "layout = dict(title = 'Base Power (No Multipliers)',\n",
    "              yaxis = dict(title = 'Damage'),\n",
    "              xaxis = dict(title = 'A/D'),\n",
    "              )\n",
    "fig = dict(data=data,layout=layout)\n",
    "py.iplot(fig)\n"
   ]
  },
  {
   "cell_type": "code",
   "execution_count": null,
   "metadata": {},
   "outputs": [],
   "source": []
  }
 ],
 "metadata": {
  "kernelspec": {
   "display_name": "Python 3",
   "language": "python",
   "name": "python3"
  },
  "language_info": {
   "codemirror_mode": {
    "name": "ipython",
    "version": 3
   },
   "file_extension": ".py",
   "mimetype": "text/x-python",
   "name": "python",
   "nbconvert_exporter": "python",
   "pygments_lexer": "ipython3",
   "version": "3.6.5"
  }
 },
 "nbformat": 4,
 "nbformat_minor": 2
}
