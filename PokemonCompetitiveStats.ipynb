{
 "cells": [
  {
   "cell_type": "markdown",
   "metadata": {},
   "source": [
    "# Competitive Pokemon Analysis"
   ]
  },
  {
   "cell_type": "markdown",
   "metadata": {},
   "source": [
    "## Goal"
   ]
  },
  {
   "cell_type": "raw",
   "metadata": {},
   "source": [
    "Project Goal:\n",
    "    1) Investigate Competitive Pokemon Design in preparation for next Pokemon Generation\n",
    "    2) Investigate \"Best Starter\" Battle Analysis \n",
    "    3) Make Prediction on next generation Starter Stats and Legendary Stats\n",
    "Personal:\n",
    "    Familiarize with \n",
    "    * Python\n",
    "    * Regex\n",
    "    * Pandas\n",
    "    * Plotly \n",
    "    * Python Styling (Latex/Markdown)"
   ]
  },
  {
   "cell_type": "raw",
   "metadata": {},
   "source": [
    "Links \n",
    "\n",
    "https://bulbapedia.bulbagarden.net/wiki/List_of_Pok%C3%A9mon_with_form_differences\n",
    "\n",
    "Pandas Multiple Replace\n",
    "https://stackoverflow.com/questions/36072626/pandas-replace-multiple-values-at-once\n",
    "\n",
    "https://stackoverflow.com/questions/199059/a-pythonic-way-to-insert-a-space-before-capital-letters\n",
    "https://stackoverflow.com/questions/41476150/removing-space-from-dataframe-columns-in-pandas\n",
    "    \n",
    "    https://plot.ly/python/subplots/#multiple-custom-sized-subplots\n",
    "    \n",
    "https://www.python.org/dev/peps/pep-0008/\n",
    "https://bulbapedia.bulbagarden.net/wiki/Category:Type_color_templates"
   ]
  },
  {
   "cell_type": "markdown",
   "metadata": {},
   "source": [
    "## Results"
   ]
  },
  {
   "cell_type": "raw",
   "metadata": {},
   "source": [
    "1) Box Plots of each Pokemon Species Per Generation\n",
    "    * Shows how Megas in Gen 6 surpassed Stat Ceiling\n",
    "    * Shows Design of Legendary Pokemon (Total >= 580) vs Regular (Total <=580) [w/ 1-2 exceptions each gen] \n",
    "2) Predict Stats for next starter\n"
   ]
  },
  {
   "cell_type": "markdown",
   "metadata": {},
   "source": [
    "## Updates"
   ]
  },
  {
   "cell_type": "raw",
   "metadata": {},
   "source": [
    "#03/09/19\n",
    "1st Attempt:\n",
    "Project: Filter by Gens\n",
    "Issues found: \n",
    "1) No clue about what exactly was in the Pokemon Database \n",
    "    I assumed All Generations, but it was only up to Gen VI (X/Y - Kalos), did not include Gen VII (Sun/Moon - Alola)\n",
    " \n",
    "2) Unstable Project Scope\n",
    "    Initially I wanted to do a Game Creation analysis on the different Pokemon Stats based on each iteration.\n",
    "    However I found out that this is very tricky due to changes made on Stats (introducing new stats (Gen 1 Special Defense) and increasing stats by 10 (Gen V & Gen VI) \n",
    "    Maybe in the future I can revisit this idea but scraping more info\n",
    "3) Messy Database querying based on 1 & 2 \n",
    "    Assuming these parts about 1 & 2 I made messier Database queries \n",
    "    Examples:\n",
    "        Pkmn_Gen1to5 = Pkmn_raw[(Pkmn_raw['Generation']<=5) & (~Pkmn_raw['Name'].str.contains('Mega', regex =True)) & (~Pkmn_raw['Name'].str.contains('Primal', regex =True))]\n",
    "        Pkmn_Gen6 = Pkmn_raw[(Pkmn_raw['Generation']==6) |(Pkmn_raw['Name'].str.contains('Mega', regex =True))| (Pkmn_raw['Name'].str.contains('Primal', regex =True))]\n",
    "        \n",
    "4) Pokemon Complexity\n",
    "    Movelist\n",
    "    Male/Female Differences  \n",
    "5) Competitive Pokemon Tierlists are for different gamemodes\n",
    "   6v6 or Doubles\n",
    "   \n",
    "Solutions:\n",
    "1) Stay within Gen I - VI, ignore Gen VII for now\n",
    "2) Accept VI stat changes as whole\n",
    "3) Create new column of Normalized Generation to represent the extra evolutions\n",
    "4) Worry About the extra stuff later\n",
    "-----------------------------------------------------------------------------------------------------------------------------------------------------------------------------------------------------------------------------------------------------------------------\n",
    "\n",
    "03/12/19\n",
    "1st Attempt \n",
    "Project: Show stats of Starter Pokemon\n",
    "Issues:\n",
    "Using Scatter Polar is nice for being similar to how the game shows info, but it's not good for overlapping data\n",
    "\n",
    "Solution:\n",
    "Focus more on creating something to predict the next generation pokemon stats\n",
    "\n",
    "Though it looks really really nice to have that hex of data and possibly the pokemon side-by-side. Might use this format for showcasing really optimal pokemon stats\n",
    "\n",
    "\n",
    "-----------------------------------------------------------------------------------------------------------------------------------------------------------------------------------------------------------------------------------------------------------------------\n",
    "03/13/19\n",
    "2nd Attempt\n",
    "Project: Show stats of Starter Pokemon\n",
    "WENT PRETTY OK\n",
    "Issues:\n",
    "Definitely need to refactor the code and make it a function for simplicity. Basically I'm repeating the same thing 3 times already and already iterating over a list per Type! Also it would be good in the future for BOX comparisons\n",
    "Definitely need to clean up the code for spaces, indentations soon\n",
    "Might need a more clear cut way of isolating the Starter Pokemon other than just looking it up? \n",
    "\n",
    "Things I learned:\n",
    "* Repeating list values = np.repeat\n",
    "* Repeat a dataframe keeping original order= pd.concat\n",
    "* isin() is very useful \n",
    "* Plotly Grouped Plots\n",
    "Questions:\n",
    "* Best practices when to make a new dataframe or drop columns?\n",
    "* \n",
    "\n",
    "# Both output same thing, but one is much easier to read at the cost of making another dataframe\n",
    "Pkmn_raw.loc[Pkmn_raw['Name'].isin(Pkmn_Starter_Grass), 'HP']\n",
    "Grass_Starters['HP']\n",
    "\n",
    "\n"
   ]
  },
  {
   "cell_type": "code",
   "execution_count": 2,
   "metadata": {},
   "outputs": [],
   "source": [
    "import pandas as pd\n",
    "from plotly import tools\n",
    "import plotly.plotly as py\n",
    "import plotly.graph_objs as go\n",
    "import numpy as np\n",
    "\n",
    "# Get Pokemon Stats CSV File\n",
    "Pkmn_raw = pd.read_csv('Pokemon.csv')"
   ]
  },
  {
   "cell_type": "code",
   "execution_count": 3,
   "metadata": {},
   "outputs": [],
   "source": [
    "# CLEAN POKEMON NAMES\n",
    "# Assuming it's fine to keep as _raw\n",
    "#Pandas Multiple Replace\n",
    "#https://stackoverflow.com/questions/36072626/pandas-replace-multiple-values-at-once\n",
    "\n",
    "Name_Replacements = {\n",
    "    'Name':{\n",
    "        # Remove duplicate names found in Mega, Primal, and Hoopa\n",
    "        # Regex: ?= -> Look ahead Assertion\n",
    "        # [Regex -> English] Replace everything before \"Target Word\" with empty space \n",
    "        # Pkmn_raw['Name'] = Pkmn_raw['Name'].str.replace(\".*(?=Mega)\", \"\")\n",
    "        r'.*(?=Mega|Primal|Hoopa)': '',\n",
    "        # Add Space between  Capitals to account in Forme, Cloake, Mode, Size\n",
    "        # Regex:\n",
    "        # [Regex -> English] Find two consecutive groups of (Words) and (Capital Letter) or (\"50%\") and Add a space between the two groups\n",
    "        r'(\\w)([A-Z])|(?=50%)': r'\\1 \\2'\n",
    "    }\n",
    "}\n",
    "\n",
    "Pkmn_raw.replace(Name_Replacements, regex=True, inplace=True)"
   ]
  },
  {
   "cell_type": "code",
   "execution_count": 4,
   "metadata": {},
   "outputs": [],
   "source": [
    "# CLEAN POKEMON GEN\n",
    "# Issue: Mega Evolutions and Primal Reversions are Gen 6, but are appended to the respective Pokemon in the Pokedex\n",
    "\n",
    "Pkmn_raw['Gen_Normalized'] = Pkmn_raw['Generation']\n",
    "Pkmn_raw.loc[Pkmn_raw['Name'].str.contains('Mega|Primal'), 'Gen_Normalized'] = 6\n",
    "\n",
    "#Pkmn_raw['Generation Normalized'] = Pkmn_raw['Generation'].replace(Gen_Replacements,regex=True)\n",
    "\n",
    "# Make Generation Normalized = 6 for Mega and Primal Transform\n"
   ]
  },
  {
   "cell_type": "code",
   "execution_count": null,
   "metadata": {},
   "outputs": [],
   "source": [
    "# Box Plot of Base Stats per Generation (I-VI)\n",
    "trace_all = go.Box(\n",
    "                y = Pkmn_raw['Total'],\n",
    "                name = 'All Gen', \n",
    "                boxpoints = 'all', \n",
    "                text = Pkmn_raw['Name'],\n",
    "                pointpos = -2,\n",
    "                jitter = 0.6,\n",
    "                boxmean = 'sd',\n",
    "                )\n",
    "\n",
    "data = [trace_all]\n",
    "for i in Pkmn_raw['Gen_Normalized'].sort_values().unique():\n",
    "    trace = go.Box(\n",
    "        y = Pkmn_raw.loc[Pkmn_raw['Gen_Normalized'] == i, 'Total'],\n",
    "        name = \"Gen \" + str(i),\n",
    "        boxpoints = 'all',\n",
    "        text = Pkmn_raw.loc[Pkmn_raw['Gen_Normalized'] == i,'Name'],\n",
    "        jitter = 0.6,\n",
    "        boxmean = 'sd',\n",
    "        pointpos = -2,\n",
    "    )    \n",
    "    data.append(trace)\n",
    "\n",
    "layout = go.Layout(\n",
    "    title = 'Total Stats Per Generation (I-VI)',\n",
    "    autosize = False,\n",
    "    yaxis = dict(range = [100, 900]),\n",
    "    height = 2000,\n",
    "    width = 4000,\n",
    ")\n",
    "\n",
    "fig = go.Figure(data = data, layout = layout)\n",
    "py.iplot(fig)\n",
    "\n"
   ]
  },
  {
   "cell_type": "code",
   "execution_count": null,
   "metadata": {},
   "outputs": [],
   "source": [
    "# POLAR SCATTER [CURRENTLY NOT IN USE!]\n",
    "# Starter comparison\n",
    "# 0 - 200\n",
    "#         HP\n",
    "#  ATTACK   SPECIAL ATTACK\n",
    "#  DEFENSE  SPECIAL DEFENSE\n",
    "#        SPEED\n",
    "# HP ATTACK DEFENSE SP ATTACK SP DEF SPEED\n",
    "# Set up plot [Check]\n",
    "# Reorient Categories [Check]\n",
    "# Value depending on pokemon name and column [Check]\n",
    "\n",
    "\n",
    "# def PkmnPolarStats(Pkmn_Comparison):\n",
    "#     data = []\n",
    "#     for Mon in Pkmn_Comparison:\n",
    "#         Stats_Polar = go.Scatterpolar(\n",
    "#             name = Mon,\n",
    "#             r = [\n",
    "#                  Pkmn_raw.loc[Pkmn_raw['Name'] == Mon,'HP'], \n",
    "#                  Pkmn_raw.loc[Pkmn_raw['Name'] == Mon,'Sp. Atk'], \n",
    "#                  Pkmn_raw.loc[Pkmn_raw['Name'] == Mon,'Sp. Def'], \n",
    "#                  Pkmn_raw.loc[Pkmn_raw['Name'] == Mon,'Speed'], \n",
    "#                  Pkmn_raw.loc[Pkmn_raw['Name'] == Mon,'Defense'], \n",
    "#                  Pkmn_raw.loc[Pkmn_raw['Name'] == Mon,'Attack'], \n",
    "#                  Pkmn_raw.loc[Pkmn_raw['Name'] == Mon,'HP']\n",
    "#                 ],\n",
    "#             theta = ['HP','Sp. Atk','Sp. Def','Speed','Defense','Attack','HP'],\n",
    "#             fill = 'toself',\n",
    "#             hoveron = 'points',\n",
    "#         )\n",
    "#         data.append(Stats_Polar)\n",
    "#     return data\n",
    "\n",
    "# testdata1 = PkmnPolarStats(['Bulbasaur','Ivysaur','Squirtle','Wartortle','Charmander','Charmeleon'])\n",
    "# testdata2 = PkmnPolarStats(['Squirtle','Wartortle'])\n",
    "# testdata3 = PkmnPolarStats(['Charmander','Charmeleon'])\n",
    "\n",
    "# layout = go.Layout(   \n",
    "#     polar = dict(\n",
    "#         radialaxis = dict(\n",
    "#             range = [0,200],\n",
    "#         ),\n",
    "#         angularaxis = dict(\n",
    "#             rotation = 90,\n",
    "#         ),\n",
    "#     ),\n",
    "#     showlegend = True,\n",
    "#     title = 'TestTitle',\n",
    "# )\n",
    "\n",
    "\n",
    "# fig = go.Figure(data=testdata1,layout=layout)\n",
    "# py.iplot(fig, filename='polar-category')"
   ]
  },
  {
   "cell_type": "code",
   "execution_count": null,
   "metadata": {},
   "outputs": [],
   "source": [
    "Pkmn_raw"
   ]
  },
  {
   "cell_type": "code",
   "execution_count": 5,
   "metadata": {},
   "outputs": [],
   "source": [
    "# Creating Starter Dataframes from Raw Dataframe\n",
    "Pkmn_Starter_Grass = ['Bulbasaur', 'Chikorita', 'Treecko', 'Turtwig', 'Snivy', 'Chespin']\n",
    "Grass_Starters = Pkmn_raw.loc[Pkmn_raw['Name'].isin(Pkmn_Starter_Grass)].drop(columns=['Generation','Legendary','Gen_Normalized'])\n",
    "\n",
    "Pkmn_Starter_Fire = ['Charmander', 'Cyndaquil', 'Torchic', 'Chimchar', 'Tepig', 'Fennekin']\n",
    "Fire_Starters = Pkmn_raw.loc[Pkmn_raw['Name'].isin(Pkmn_Starter_Fire)].drop(columns=['Generation','Legendary','Gen_Normalized'])\n",
    "\n",
    "Pkmn_Starter_Water = ['Squirtle', 'Totodile', 'Mudkip', 'Piplup', 'Oshawott', 'Froakie']\n",
    "Water_Starters = Pkmn_raw.loc[Pkmn_raw['Name'].isin(Pkmn_Starter_Water)].drop(columns=['Generation','Legendary','Gen_Normalized'])\n"
   ]
  },
  {
   "cell_type": "code",
   "execution_count": null,
   "metadata": {},
   "outputs": [],
   "source": [
    "# Starter Comparison TEST\n",
    "def ComparisonBoxPlot(Mon_df, Stats_list):\n",
    "    data = []\n",
    "    for Stat in Stats_list:\n",
    "        Box_Trace= go.Box(\n",
    "            y=Mon_df[Stat],\n",
    "            name = Stat,\n",
    "            boxpoints='all',\n",
    "            text=Mon_df['Name'],\n",
    "        ) \n",
    "    \n",
    "        data.append(Box_Trace)\n",
    "    return data\n",
    "\n",
    "Pkmn_Stats = ['HP','Attack','Defense','Sp. Atk', 'Sp. Def', 'Speed']\n",
    "Test_Grass = ComparisonBoxPlot(Grass_Starters, Pkmn_Stats)\n",
    "\n",
    "layout = go.Layout(\n",
    "    title='Test',\n",
    "    autosize=True,\n",
    ")\n",
    "fig = go.Figure(data=Test_Grass, layout=layout)\n",
    "py.iplot(fig)\n",
    "\n",
    "\n"
   ]
  },
  {
   "cell_type": "code",
   "execution_count": 8,
   "metadata": {},
   "outputs": [
    {
     "data": {
      "text/html": [
       "<iframe id=\"igraph\" scrolling=\"no\" style=\"border:none;\" seamless=\"seamless\" src=\"https://plot.ly/~zcar/280.embed\" height=\"525px\" width=\"100%\"></iframe>"
      ],
      "text/plain": [
       "<plotly.tools.PlotlyDisplay object>"
      ]
     },
     "execution_count": 8,
     "metadata": {},
     "output_type": "execute_result"
    }
   ],
   "source": [
    "# Starter Comparison Final\n",
    "Stats_List=['HP', 'Attack', 'Defense', 'Sp. Atk', 'Sp. Def', 'Speed']\n",
    "x = np.repeat(Stats_List,Pkmn_raw['Generation'].max()) #6 for All 6 generations of (grass/fire/water) type pokemen\n",
    "\n",
    "trace0 = go.Box(\n",
    "    y=pd.concat([Grass_Starters['HP'],\n",
    "                 Grass_Starters['Attack'],\n",
    "                 Grass_Starters['Defense'],\n",
    "                 Grass_Starters['Sp. Atk'],\n",
    "                 Grass_Starters['Sp. Def'],\n",
    "                 Grass_Starters['Speed']\n",
    "                ]),\n",
    "    x=x,\n",
    "    name='Grass',\n",
    "    marker=dict(\n",
    "        color='#78C850'\n",
    "    ),\n",
    "    boxpoints='all',\n",
    "    text=pd.concat([Grass_Starters['Name']] * Pkmn_raw['Generation'].max())\n",
    ")\n",
    "trace1 = go.Box(\n",
    "    y=pd.concat([Fire_Starters['HP'],\n",
    "                 Fire_Starters['Attack'],\n",
    "                 Fire_Starters['Defense'],\n",
    "                 Fire_Starters['Sp. Atk'],\n",
    "                 Fire_Starters['Sp. Def'],\n",
    "                 Fire_Starters['Speed']\n",
    "                ]),\n",
    "    x=x,\n",
    "    name='Fire',\n",
    "    marker=dict(\n",
    "        color='#F08030'\n",
    "    ),\n",
    "    boxpoints='all',\n",
    "    text = pd.concat([Fire_Starters['Name']] * Pkmn_raw['Generation'].max())\n",
    ")\n",
    "trace2 = go.Box(\n",
    "    y=pd.concat([Water_Starters['HP'],\n",
    "                 Water_Starters['Attack'],\n",
    "                 Water_Starters['Defense'],\n",
    "                 Water_Starters['Sp. Atk'],\n",
    "                 Water_Starters['Sp. Def'],\n",
    "                 Water_Starters['Speed']\n",
    "                ]),\n",
    "    x=x,\n",
    "    name='Water',\n",
    "    marker=dict(\n",
    "        color='#6890F0'\n",
    "    ),\n",
    "    boxpoints='all',\n",
    "    text=pd.concat([Water_Starters['Name']] * Pkmn_raw['Generation'].max())\n",
    ")\n",
    "layout = go.Layout(\n",
    "    title = 'Pokemon Starters',\n",
    "    yaxis=dict(\n",
    "        zeroline=False\n",
    "    ),\n",
    "    boxmode='group'\n",
    ")\n",
    "\n",
    "fig = go.Figure(data=[trace0, trace1, trace2], layout=layout)\n",
    "py.iplot(fig)\n",
    "\n",
    "\n"
   ]
  },
  {
   "cell_type": "markdown",
   "metadata": {},
   "source": [
    "$e^{i\\pi} + 1 = 0$\n"
   ]
  },
  {
   "cell_type": "markdown",
   "metadata": {},
   "source": [
    "## $$ Damage = \\Bigg(\\frac{2 \\times Level}{5}\\Big)+2 $$\n"
   ]
  },
  {
   "cell_type": "markdown",
   "metadata": {},
   "source": [
    "# $$ Damage = \\Bigg( \\frac{\\big(\\frac{2 \\times Level}{5} +2 \\big) \\times Power \\times A/D}{50} +2 \\Bigg) \\times Modifier$$"
   ]
  },
  {
   "cell_type": "markdown",
   "metadata": {},
   "source": [
    "# $$ Modifier = Targets \\times Weather \\times Critical \\times random \\times STAB \\times Type \\times Burn \\times Other$$"
   ]
  },
  {
   "cell_type": "code",
   "execution_count": null,
   "metadata": {},
   "outputs": [],
   "source": []
  }
 ],
 "metadata": {
  "kernelspec": {
   "display_name": "Python 3",
   "language": "python",
   "name": "python3"
  },
  "language_info": {
   "codemirror_mode": {
    "name": "ipython",
    "version": 3
   },
   "file_extension": ".py",
   "mimetype": "text/x-python",
   "name": "python",
   "nbconvert_exporter": "python",
   "pygments_lexer": "ipython3",
   "version": "3.6.5"
  }
 },
 "nbformat": 4,
 "nbformat_minor": 2
}
